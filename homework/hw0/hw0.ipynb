{
 "cells": [
  {
   "cell_type": "code",
   "execution_count": 1,
   "id": "5acc3a04-15a1-4571-a0d0-aa62503d1591",
   "metadata": {},
   "outputs": [
    {
     "name": "stdout",
     "output_type": "stream",
     "text": [
      "hello\n"
     ]
    }
   ],
   "source": [
    "print(\"hello\")"
   ]
  },
  {
   "cell_type": "code",
   "execution_count": null,
   "id": "7595e478-f688-4951-9e22-87dd4dc67c8f",
   "metadata": {},
   "outputs": [],
   "source": [
    "import requests\n",
    "import json\n",
    "from datetime import datetime, timedelta\n",
    "import os\n",
    "\n",
    "# NOAA API endpoint\n",
    "api_url = \"https://www.ncei.noaa.gov/cdo-web/api/v2/data\"\n",
    "\n",
    "# API key\n",
    "api_key = \"wTofoggTFtkgHqcdxyBzVMNKZSKstAaC\"\n",
    "\n",
    "# Location parameters\n",
    "dataset_id = \"GHCND\"\n",
    "location_id = \"ZIP:80249\"\n",
    "units = \"standard\"\n",
    "limit = 1000\n",
    "\n",
    "# Date ranges\n",
    "start_date = datetime.strptime(\"12/15\", \"%m/%d\")\n",
    "end_date = datetime.strptime(\"1/21\", \"%m/%d\")\n",
    "\n",
    "# Create 'data' folder if not exists\n",
    "data_folder = \"data\"\n",
    "if not os.path.exists(data_folder):\n",
    "    os.makedirs(data_folder)\n",
    "\n",
    "# Loop through years (2008-2022)\n",
    "for year in range(2008, 2023):\n",
    "    start_year = datetime(year, start_date.month, start_date.day)\n",
    "    end_year = datetime(year + 1, end_date.month, end_date.day)\n",
    "\n",
    "    # Format filename\n",
    "    filename = f\"{data_folder}/winter_{year}-{year+1}.json\"\n",
    "\n",
    "    # Make API request\n",
    "    response = requests.get(\n",
    "        api_url,\n",
    "        headers={\"token\": api_key},\n",
    "        params={\n",
    "            \"datasetid\": dataset_id,\n",
    "            \"locationid\": location_id,\n",
    "            \"units\": units,\n",
    "            \"startdate\": start_year.strftime(\"%Y-%m-%d\"),\n",
    "            \"enddate\": end_year.strftime(\"%Y-%m-%d\"),\n",
    "            \"limit\": limit,\n",
    "        },\n",
    "    )\n",
    "\n",
    "    # Check if the request was successful\n",
    "    if response.status_code == 200:\n",
    "        # Save JSON response to file\n",
    "        with open(filename, \"w\") as file:\n",
    "            json.dump(response.json(), file)\n",
    "        print(f\"Data for {year}-{year+1} saved to {filename}\")\n",
    "    else:\n",
    "        print(f\"Failed to retrieve data for {year}-{year+1}. Status code: {response.status_code}\")\n",
    "\n",
    "print(\"Data retrieval and storage completed.\")\n"
   ]
  }
 ],
 "metadata": {
  "kernelspec": {
   "display_name": "Python 3 (ipykernel)",
   "language": "python",
   "name": "python3"
  },
  "language_info": {
   "codemirror_mode": {
    "name": "ipython",
    "version": 3
   },
   "file_extension": ".py",
   "mimetype": "text/x-python",
   "name": "python",
   "nbconvert_exporter": "python",
   "pygments_lexer": "ipython3",
   "version": "3.11.6"
  }
 },
 "nbformat": 4,
 "nbformat_minor": 5
}
