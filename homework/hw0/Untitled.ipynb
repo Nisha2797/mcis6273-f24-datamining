{
 "cells": [
  {
   "cell_type": "code",
   "execution_count": null,
   "id": "5acc3a04-15a1-4571-a0d0-aa62503d1591",
   "metadata": {},
   "outputs": [],
   "source": []
  }
 ],
 "metadata": {
  "kernelspec": {
   "display_name": "Python 3 (ipykernel)",
   "language": "python",
   "name": "python3"
  },
  "language_info": {
   "codemirror_mode": {
    "name": "ipython",
    "version": 3
   },
   "file_extension": ".py",
   "mimetype": "text/x-python",
   "name": "python",
   "nbconvert_exporter": "python",
   "pygments_lexer": "ipython3",
   "version": "3.11.6"
  }
 },
 "nbformat": 4,
 "nbformat_minor": 5
}
